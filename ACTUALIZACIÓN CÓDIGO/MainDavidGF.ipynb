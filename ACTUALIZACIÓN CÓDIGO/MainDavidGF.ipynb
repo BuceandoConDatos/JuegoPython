{
 "cells": [
  {
   "cell_type": "code",
   "execution_count": null,
   "id": "24ca31c8-1e06-4fdd-a6ad-371f1e077324",
   "metadata": {},
   "outputs": [
    {
     "name": "stdout",
     "output_type": "stream",
     "text": [
      "Practica del modulo: PROGRAMACION PYTHON\n",
      "\n",
      "ADIVINA EL JUEGO\n",
      "El juego consiste en adivinar un numero del 1 al 1000. Ten paciencia y se estrategico. Mucha suerte\n",
      "\n",
      "\n"
     ]
    }
   ],
   "source": [
    "from python_david import ProyectoPython\n",
    "\n",
    "ProyectoPython()"
   ]
  },
  {
   "cell_type": "code",
   "execution_count": null,
   "id": "cb9460c5-d931-427b-921f-1ffce41d7a5f",
   "metadata": {},
   "outputs": [],
   "source": []
  }
 ],
 "metadata": {
  "kernelspec": {
   "display_name": "Python 3 (ipykernel)",
   "language": "python",
   "name": "python3"
  },
  "language_info": {
   "codemirror_mode": {
    "name": "ipython",
    "version": 3
   },
   "file_extension": ".py",
   "mimetype": "text/x-python",
   "name": "python",
   "nbconvert_exporter": "python",
   "pygments_lexer": "ipython3",
   "version": "3.12.7"
  }
 },
 "nbformat": 4,
 "nbformat_minor": 5
}
