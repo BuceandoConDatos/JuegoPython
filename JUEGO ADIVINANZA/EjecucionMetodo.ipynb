{
 "cells": [
  {
   "cell_type": "code",
   "execution_count": null,
   "id": "e84de1f6-a16b-4cb2-b94c-97aafa7f7b1d",
   "metadata": {},
   "outputs": [],
   "source": [
    "# SE DEFINE EL COMANDO %RUN PARA EJECUTAR EL METODO DEFINIDO ANTERIORMENTE. SE LLAMA AL COMANDO JUNTO CON EL NOMBRE COMPLETO DEL ARCHIVO Y POSTERIORMENTE SE LLAMA AL METODO QUE SE HA DEFINIDO.\n",
    "# NOTA IMPORTANTE: SE HA COMPROBADO EN MULTIPLES OCASIONES QUE FUNCIONA, TANTO INDIVIDUALMENTE COMO CON OTROS COMPAÑEROS, CON EL OBJETIVO DE ATAJAR POSIBLES ERRORES.\n",
    "# 2º NOTA IMPORTANTE: EN CASO DE NO EJECUTARSE, CERRAR JUPYTER Y VOLVER A ABRIRLO.\n",
    "\n",
    "%run JuegoAdivinanza.ipynb\n",
    "\n",
    "ProyectoPython()"
   ]
  }
 ],
 "metadata": {
  "kernelspec": {
   "display_name": "Python [conda env:base] *",
   "language": "python",
   "name": "conda-base-py"
  },
  "language_info": {
   "codemirror_mode": {
    "name": "ipython",
    "version": 3
   },
   "file_extension": ".py",
   "mimetype": "text/x-python",
   "name": "python",
   "nbconvert_exporter": "python",
   "pygments_lexer": "ipython3",
   "version": "3.12.7"
  }
 },
 "nbformat": 4,
 "nbformat_minor": 5
}
